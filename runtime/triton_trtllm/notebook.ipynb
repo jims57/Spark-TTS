{
 "cells": [
  {
   "cell_type": "markdown",
   "id": "29fbeb56-be89-48d4-aec9-d731f14efc4c",
   "metadata": {},
   "source": [
    "# clear"
   ]
  },
  {
   "cell_type": "code",
   "execution_count": 1,
   "id": "c5bdf1ff-b6c3-45df-9eb4-bfa3cd687bbe",
   "metadata": {},
   "outputs": [
    {
     "name": "stdout",
     "output_type": "stream",
     "text": [
      "rm: cannot remove '/root/Spark-TTS/runtime/triton_trtllm/generated_sentences/*.txt': No such file or directory\n",
      "rm: cannot remove '/root/Spark-TTS/runtime/triton_trtllm/generated_sentences/tts_done_sentences/*.txt': No such file or directory\n"
     ]
    }
   ],
   "source": [
    "!rm -rf ~/Spark-TTS/result/*  &&  rm -rf ~/Spark-TTS/example/results/* && rm ~/Spark-TTS/runtime/triton_trtllm/generated_sentences/*.txt\n",
    "!rm ~/Spark-TTS/runtime/triton_trtllm/generated_sentences/tts_done_sentences/*.txt"
   ]
  },
  {
   "cell_type": "markdown",
   "id": "fda45be6-3adf-4b6d-912d-40890f1488c5",
   "metadata": {},
   "source": [
    "# info"
   ]
  },
  {
   "cell_type": "code",
   "execution_count": null,
   "id": "ff65d810-ea94-40a7-b9a6-b7545e796cdf",
   "metadata": {},
   "outputs": [],
   "source": [
    "!ps aux | grep 9002"
   ]
  },
  {
   "cell_type": "code",
   "execution_count": null,
   "id": "db8f493d-35fa-489f-8044-aa24c824e520",
   "metadata": {},
   "outputs": [],
   "source": [
    "!ps aux | grep server-api.py"
   ]
  },
  {
   "cell_type": "markdown",
   "id": "22e8f8a3-533c-447b-b452-65591e6e50eb",
   "metadata": {},
   "source": [
    "# play"
   ]
  },
  {
   "cell_type": "markdown",
   "id": "05acda6f-d39e-4408-b8e7-2d16f8bf88bc",
   "metadata": {},
   "source": [
    "## play the last wav"
   ]
  },
  {
   "cell_type": "code",
   "execution_count": null,
   "id": "c7376270-5c2d-4a2d-bd81-8ac1bc1424f9",
   "metadata": {},
   "outputs": [],
   "source": [
    "from play_last_wav import play_latest_audio\n",
    "play_latest_audio()  # or play_latest_audio(jupyter_mode=True)"
   ]
  },
  {
   "cell_type": "markdown",
   "id": "c62e9c4f-707d-4503-a6d3-5f402fd2163f",
   "metadata": {},
   "source": [
    "## play a specific wav"
   ]
  },
  {
   "cell_type": "code",
   "execution_count": null,
   "id": "147f0f77-d669-4264-b5ba-a04d69142f5b",
   "metadata": {},
   "outputs": [],
   "source": [
    "from audio_player import play_wav_file\n",
    "\n",
    "# Call the function directly\n",
    "play_wav_file('eb344db6059dd9bf59f695666c0d6aec')"
   ]
  },
  {
   "cell_type": "markdown",
   "id": "087576c0-0460-4463-b56a-d30edefb2256",
   "metadata": {},
   "source": [
    "## pleay all wav"
   ]
  },
  {
   "cell_type": "code",
   "execution_count": null,
   "id": "8c033128-22e0-4238-b7fd-320f7ab5739f",
   "metadata": {},
   "outputs": [],
   "source": [
    "import os\n",
    "from audio_player import play_wav_file\n",
    "import time\n",
    "import glob\n",
    "import re\n",
    "from IPython.display import display, HTML, Audio\n",
    "\n",
    "def find_wav_files(directory):\n",
    "    wav_files = []\n",
    "    # Walk through all directories and files\n",
    "    for root, dirs, files in os.walk(directory):\n",
    "        # Find files with .wav extension (case insensitive)\n",
    "        for file in files:\n",
    "            if file.lower().endswith('.wav'):\n",
    "                # Get full path of the wav file\n",
    "                full_path = os.path.join(root, file)\n",
    "                wav_files.append(full_path)\n",
    "    return wav_files\n",
    "\n",
    "def get_file_creation_time(file_path):\n",
    "    \"\"\"Get the creation time of a file for sorting purposes\"\"\"\n",
    "    return os.path.getctime(file_path)\n",
    "\n",
    "def read_sorted_sentences_from_directory(directory):\n",
    "    \"\"\"Read all numbered text files and extract sentences with their numbers\"\"\"\n",
    "    sentences = []\n",
    "    \n",
    "    # Find all txt files in the directory\n",
    "    txt_files = glob.glob(os.path.join(directory, \"*.txt\"))\n",
    "    \n",
    "    # Sort text files numerically by their filename number\n",
    "    txt_files.sort(key=lambda x: int(os.path.basename(x).split('.')[0]))\n",
    "    \n",
    "    for txt_file in txt_files:\n",
    "        try:\n",
    "            with open(txt_file, 'r', encoding='utf-8') as f:\n",
    "                content = f.read()\n",
    "                # Find all sentences with numbers like \"1. text\" or \"1.text\"\n",
    "                numbered_sentences = re.findall(r'(\\d+)\\.[\\s]*(.*?)(?=\\d+\\.|$)', content, re.DOTALL)\n",
    "                for num, sentence in numbered_sentences:\n",
    "                    # Clean up the sentence\n",
    "                    clean_sentence = sentence.strip()\n",
    "                    if clean_sentence:\n",
    "                        sentences.append((int(num), clean_sentence))\n",
    "        except Exception as e:\n",
    "            print(f\"Error reading text file {txt_file}: {e}\")\n",
    "    \n",
    "    # Sort by the extracted number\n",
    "    sentences.sort(key=lambda x: x[0])\n",
    "    return sentences\n",
    "\n",
    "def get_corresponding_text(wav_path):\n",
    "    \"\"\"Find and read the corresponding text file for a wav file\"\"\"\n",
    "    # Get the directory and filename\n",
    "    directory = os.path.dirname(wav_path)\n",
    "    wav_filename = os.path.basename(wav_path)\n",
    "    \n",
    "    # Extract MD5 hash from filename (remove .wav extension)\n",
    "    md5_hash = wav_filename.split('.')[0]\n",
    "    \n",
    "    # First look for TXT file with same name\n",
    "    txt_path = os.path.join(directory, f\"{md5_hash}.txt\")\n",
    "    if os.path.exists(txt_path):\n",
    "        try:\n",
    "            with open(txt_path, 'r', encoding='utf-8') as f:\n",
    "                return f.read().strip()\n",
    "        except Exception as e:\n",
    "            print(f\"Error reading text file {txt_path}: {e}\")\n",
    "    \n",
    "    # Check if we have a matching sentence ID from our sorted sentences\n",
    "    # This is a fallback method if the exact txt file isn't found\n",
    "    for num, text in sorted_sentences:\n",
    "        # Create a simple hash of the text to compare (this is a simplistic approach)\n",
    "        if str(num) in wav_filename:\n",
    "            return text\n",
    "    \n",
    "    # If no text file is found, look through all txt files in the directory\n",
    "    txt_files = glob.glob(os.path.join(directory, \"*.txt\"))\n",
    "    for txt_file in txt_files:\n",
    "        try:\n",
    "            with open(txt_file, 'r', encoding='utf-8') as f:\n",
    "                text_content = f.read().strip()\n",
    "                # You could add more sophisticated matching here\n",
    "                return text_content\n",
    "        except Exception as e:\n",
    "            print(f\"Error reading text file {txt_file}: {e}\")\n",
    "    \n",
    "    # If no text file is found\n",
    "    return \"No corresponding text found\"\n",
    "\n",
    "def play_all_wavs(wav_files, delay=1):  # delay in seconds between files\n",
    "    for wav_path in wav_files:\n",
    "        # Extract filename for display\n",
    "        wav_filename = os.path.basename(wav_path)\n",
    "        \n",
    "        # Get the corresponding text\n",
    "        text_content = get_corresponding_text(wav_path)\n",
    "        \n",
    "        # Display the text and create a button for playing\n",
    "        print(f\"\\n=== File: {wav_filename} ===\")\n",
    "        print(f\"Text: {text_content}\")\n",
    "        \n",
    "        # Create a button to play the audio file\n",
    "        try:\n",
    "            # Create a unique ID for each audio element\n",
    "            audio_id = f\"audio_{hash(wav_path) & 0xFFFFFFFF}\"\n",
    "            \n",
    "            # Create an Audio widget with the wav file\n",
    "            audio = Audio(filename=wav_path, autoplay=False)\n",
    "            display(audio)\n",
    "        except ImportError:\n",
    "            print(f\"Please install IPython to use the interactive play button.\")\n",
    "            print(f\"Alternatively, you can play the file manually from: {wav_path}\")\n",
    "\n",
    "# Expand the ~ to full home directory path\n",
    "results_dir = os.path.expanduser(\"~/Spark-TTS/results\")\n",
    "tts_done_sentences_dir = os.path.expanduser(\"~/Documents/GitHub/Spark-TTS/runtime/triton_trtllm/generated_sentences/tts_done_sentences\")\n",
    "\n",
    "# Load and sort all sentences from text files\n",
    "sorted_sentences = read_sorted_sentences_from_directory(tts_done_sentences_dir)\n",
    "\n",
    "# Find all WAV files\n",
    "wav_files = find_wav_files(results_dir)\n",
    "\n",
    "# Sort wav files by creation time (oldest first) as requested\n",
    "wav_files.sort(key=get_file_creation_time)\n",
    "\n",
    "# Print all found wav files\n",
    "print(f\"Found {len(wav_files)} WAV files:\")\n",
    "for i, wav_file in enumerate(wav_files):\n",
    "    create_time = time.ctime(os.path.getctime(wav_file))\n",
    "    print(f\"{i+1}. {os.path.basename(wav_file)} (Created: {create_time})\")\n",
    "\n",
    "# Play all files without asking for confirmation\n",
    "print(\"\\nPlaying all WAV files from oldest to newest...\")\n",
    "play_all_wavs(wav_files)"
   ]
  },
  {
   "cell_type": "markdown",
   "id": "95933c30-b114-48a4-8269-5718a158044e",
   "metadata": {},
   "source": [
    "# Batch tts"
   ]
  },
  {
   "cell_type": "code",
   "execution_count": null,
   "id": "59857494-ed5f-4e7a-9f08-5b0abac37ced",
   "metadata": {},
   "outputs": [],
   "source": [
    "!python3 tts_batch_processor.py --total-sentences 20 --total_sentences_per_batch 10"
   ]
  },
  {
   "cell_type": "markdown",
   "id": "8d0f3b3e-16af-45ea-8d2b-2a5bf746320a",
   "metadata": {},
   "source": [
    "# server"
   ]
  },
  {
   "cell_type": "code",
   "execution_count": null,
   "id": "db452b31-1fb0-44fd-b8e5-babacf144e99",
   "metadata": {},
   "outputs": [],
   "source": [
    "!cat server.log"
   ]
  },
  {
   "cell_type": "markdown",
   "id": "637290a5-bfa1-4ae3-acea-d26ee3c01020",
   "metadata": {},
   "source": [
    "# ==== other notes ===="
   ]
  },
  {
   "cell_type": "raw",
   "id": "1d03dd82-2579-45af-9092-7dcfdd0c1545",
   "metadata": {},
   "source": [
    "ps aux | grep 9002\n",
    "ps aux | grep server-api.py\n",
    "\n",
    "bash ./restart_spark_tts_service.sh\n",
    "bash /root/.jupyter_startup.sh\n",
    "\n",
    "==【push image and restart container】==\n",
    "version=\"1.12.5\" && docker commit --pause=false spark-tts-server jims57/spark-tts-server:v$version && docker push jims57/spark-tts-server:v$version && docker rm spark-tts-server -f && docker run --gpus all -it -p 9000:9000 -p 9002:9002 -p 9003:9003 --shm-size=16g -w ~/Spark-TTS/runtime/triton_trtllm --name spark-tts-server jims57/spark-tts-server:v$version /bin/bash -c \"bash /root/.jupyter_startup.sh; /bin/bash\"\n",
    "\n",
    "==【just restart】==\n",
    "version=\"1.12.5\" && docker rm spark-tts-server -f && docker run --gpus all -it -p 9000:9000 -p 9002:9002 -p 9003:9003 --shm-size=16g -w ~/Spark-TTS/runtime/triton_trtllm --name spark-tts-server jims57/spark-tts-server:v$version /bin/bash -c \"bash /root/.jupyter_startup.sh; /bin/bash\"\n",
    "\n",
    "==【release notes】==\n",
    "//v1.12.5: change Jupyter working folder to /root, and automatically run TTS batch processor\n",
    "//v1.12.4: disable playback all wav automatically, but manually play them\n",
    "//v1.12.3: show text before wav\n",
    "//v1.12: play all wav one by one in ipynb cell\n",
    "//v1.11: add tts_batch_processor.py to combine cluade ai sentences with tts service\n",
    "//v1.9.6: play audio in Jupyter directly\n",
    "//v1.9.4: don't run jupyter-startup.sh automatically by the image\n",
    "//v1.9: fix period problem for leijun audio\n",
    "//v1.7: use text md5 as folder name and check if it exists\n",
    "//v1.6:  convert reference audio into 16khz and mono automatically\n",
    "//v1.5.3: automatically ru server-api.py when container starts, and add symbolic link to results folder\n",
    "//v1.5: add server-api.py(curl localhost work), but external url with 9003 isn't working\n",
    "//v1.4: add jack ma and liejun audios\n",
    "//v1.3: change spark-tts HTTP service to use port 9002\n",
    "//v1.2: Jupyter Notebook started in background on port 9000\n",
    "//v1.1: run sparktts-server in background automatically"
   ]
  },
  {
   "cell_type": "code",
   "execution_count": null,
   "id": "66be9d92-fa85-4eb2-8761-0863fab7975e",
   "metadata": {},
   "outputs": [],
   "source": []
  }
 ],
 "metadata": {
  "kernelspec": {
   "display_name": "Python 3 (ipykernel)",
   "language": "python",
   "name": "python3"
  },
  "language_info": {
   "codemirror_mode": {
    "name": "ipython",
    "version": 3
   },
   "file_extension": ".py",
   "mimetype": "text/x-python",
   "name": "python",
   "nbconvert_exporter": "python",
   "pygments_lexer": "ipython3",
   "version": "3.12.3"
  }
 },
 "nbformat": 4,
 "nbformat_minor": 5
}
